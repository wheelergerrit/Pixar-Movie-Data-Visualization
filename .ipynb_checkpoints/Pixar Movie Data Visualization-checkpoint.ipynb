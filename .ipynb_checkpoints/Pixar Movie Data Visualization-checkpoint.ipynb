{
 "cells": [
  {
   "cell_type": "markdown",
   "metadata": {},
   "source": [
    "# Introducing the data"
   ]
  },
  {
   "cell_type": "code",
   "execution_count": 6,
   "metadata": {
    "collapsed": false
   },
   "outputs": [
    {
     "name": "stdout",
     "output_type": "stream",
     "text": [
      "Rows: 15\n",
      "Columns: 16\n"
     ]
    }
   ],
   "source": [
    "import pandas as pd\n",
    "import matplotlib.pyplot as plt\n",
    "import seaborn as sns\n",
    "%matplotlib inline\n",
    "\n",
    "#Download the pixar movie data\n",
    "#It is located on this lady's GitHub repo: https://github.com/apalbright/Pixar/blob/master/Pixar.csv\n",
    "pixar_movies = pd.read_csv(\"https://raw.githubusercontent.com/shian48263/dataquest/master/Data%20Visualization/Guided%20Project-%20Visualizing%20Pixar's%20Roller%20Coaster/PixarMovies.csv\")\n",
    "\n",
    "print(\"Rows:\",pixar_movies.shape[0])\n",
    "print(\"Columns:\",pixar_movies.shape[1])"
   ]
  },
  {
   "cell_type": "code",
   "execution_count": 7,
   "metadata": {
    "collapsed": false
   },
   "outputs": [
    {
     "data": {
      "text/html": [
       "<div>\n",
       "<table border=\"1\" class=\"dataframe\">\n",
       "  <thead>\n",
       "    <tr style=\"text-align: right;\">\n",
       "      <th></th>\n",
       "      <th>Year Released</th>\n",
       "      <th>Movie</th>\n",
       "      <th>Length</th>\n",
       "      <th>RT Score</th>\n",
       "      <th>IMDB Score</th>\n",
       "      <th>Metacritic Score</th>\n",
       "      <th>Opening Weekend</th>\n",
       "      <th>Worldwide Gross</th>\n",
       "      <th>Domestic Gross</th>\n",
       "      <th>Adjusted Domestic Gross</th>\n",
       "      <th>International Gross</th>\n",
       "      <th>Domestic %</th>\n",
       "      <th>International %</th>\n",
       "      <th>Production Budget</th>\n",
       "      <th>Oscars Nominated</th>\n",
       "      <th>Oscars Won</th>\n",
       "    </tr>\n",
       "  </thead>\n",
       "  <tbody>\n",
       "    <tr>\n",
       "      <th>0</th>\n",
       "      <td>1995</td>\n",
       "      <td>Toy Story</td>\n",
       "      <td>81</td>\n",
       "      <td>100</td>\n",
       "      <td>8.3</td>\n",
       "      <td>92</td>\n",
       "      <td>29.14</td>\n",
       "      <td>362.0</td>\n",
       "      <td>191.8</td>\n",
       "      <td>356.21</td>\n",
       "      <td>170.2</td>\n",
       "      <td>52.98%</td>\n",
       "      <td>47.02%</td>\n",
       "      <td>30</td>\n",
       "      <td>3.0</td>\n",
       "      <td>0.0</td>\n",
       "    </tr>\n",
       "    <tr>\n",
       "      <th>1</th>\n",
       "      <td>1998</td>\n",
       "      <td>A Bug's Life</td>\n",
       "      <td>96</td>\n",
       "      <td>92</td>\n",
       "      <td>7.2</td>\n",
       "      <td>77</td>\n",
       "      <td>33.26</td>\n",
       "      <td>363.4</td>\n",
       "      <td>162.8</td>\n",
       "      <td>277.18</td>\n",
       "      <td>200.6</td>\n",
       "      <td>44.80%</td>\n",
       "      <td>55.20%</td>\n",
       "      <td>45</td>\n",
       "      <td>1.0</td>\n",
       "      <td>0.0</td>\n",
       "    </tr>\n",
       "    <tr>\n",
       "      <th>2</th>\n",
       "      <td>1999</td>\n",
       "      <td>Toy Story 2</td>\n",
       "      <td>92</td>\n",
       "      <td>100</td>\n",
       "      <td>7.9</td>\n",
       "      <td>88</td>\n",
       "      <td>57.39</td>\n",
       "      <td>485.0</td>\n",
       "      <td>245.9</td>\n",
       "      <td>388.43</td>\n",
       "      <td>239.2</td>\n",
       "      <td>50.70%</td>\n",
       "      <td>49.32%</td>\n",
       "      <td>90</td>\n",
       "      <td>1.0</td>\n",
       "      <td>0.0</td>\n",
       "    </tr>\n",
       "    <tr>\n",
       "      <th>3</th>\n",
       "      <td>2001</td>\n",
       "      <td>Monsters, Inc.</td>\n",
       "      <td>90</td>\n",
       "      <td>96</td>\n",
       "      <td>8.1</td>\n",
       "      <td>78</td>\n",
       "      <td>62.58</td>\n",
       "      <td>528.8</td>\n",
       "      <td>255.9</td>\n",
       "      <td>366.12</td>\n",
       "      <td>272.9</td>\n",
       "      <td>48.39%</td>\n",
       "      <td>51.61%</td>\n",
       "      <td>115</td>\n",
       "      <td>3.0</td>\n",
       "      <td>1.0</td>\n",
       "    </tr>\n",
       "    <tr>\n",
       "      <th>4</th>\n",
       "      <td>2003</td>\n",
       "      <td>Finding Nemo</td>\n",
       "      <td>104</td>\n",
       "      <td>99</td>\n",
       "      <td>8.2</td>\n",
       "      <td>90</td>\n",
       "      <td>70.25</td>\n",
       "      <td>895.6</td>\n",
       "      <td>339.7</td>\n",
       "      <td>457.46</td>\n",
       "      <td>555.9</td>\n",
       "      <td>37.93%</td>\n",
       "      <td>62.07%</td>\n",
       "      <td>94</td>\n",
       "      <td>4.0</td>\n",
       "      <td>1.0</td>\n",
       "    </tr>\n",
       "    <tr>\n",
       "      <th>5</th>\n",
       "      <td>2004</td>\n",
       "      <td>The Incredibles</td>\n",
       "      <td>115</td>\n",
       "      <td>97</td>\n",
       "      <td>8.0</td>\n",
       "      <td>90</td>\n",
       "      <td>70.47</td>\n",
       "      <td>631.4</td>\n",
       "      <td>261.4</td>\n",
       "      <td>341.28</td>\n",
       "      <td>370.0</td>\n",
       "      <td>41.40%</td>\n",
       "      <td>58.60%</td>\n",
       "      <td>92</td>\n",
       "      <td>4.0</td>\n",
       "      <td>2.0</td>\n",
       "    </tr>\n",
       "    <tr>\n",
       "      <th>6</th>\n",
       "      <td>2006</td>\n",
       "      <td>Cars</td>\n",
       "      <td>116</td>\n",
       "      <td>74</td>\n",
       "      <td>7.2</td>\n",
       "      <td>73</td>\n",
       "      <td>60.12</td>\n",
       "      <td>462.0</td>\n",
       "      <td>244.1</td>\n",
       "      <td>302.59</td>\n",
       "      <td>217.9</td>\n",
       "      <td>52.84%</td>\n",
       "      <td>47.16%</td>\n",
       "      <td>70</td>\n",
       "      <td>2.0</td>\n",
       "      <td>0.0</td>\n",
       "    </tr>\n",
       "    <tr>\n",
       "      <th>7</th>\n",
       "      <td>2007</td>\n",
       "      <td>Ratatouille</td>\n",
       "      <td>111</td>\n",
       "      <td>96</td>\n",
       "      <td>8.0</td>\n",
       "      <td>96</td>\n",
       "      <td>47.00</td>\n",
       "      <td>623.7</td>\n",
       "      <td>206.4</td>\n",
       "      <td>243.65</td>\n",
       "      <td>417.3</td>\n",
       "      <td>33.09%</td>\n",
       "      <td>66.91%</td>\n",
       "      <td>150</td>\n",
       "      <td>5.0</td>\n",
       "      <td>1.0</td>\n",
       "    </tr>\n",
       "    <tr>\n",
       "      <th>8</th>\n",
       "      <td>2008</td>\n",
       "      <td>WALL-E</td>\n",
       "      <td>97</td>\n",
       "      <td>96</td>\n",
       "      <td>8.4</td>\n",
       "      <td>94</td>\n",
       "      <td>63.10</td>\n",
       "      <td>521.3</td>\n",
       "      <td>223.8</td>\n",
       "      <td>253.11</td>\n",
       "      <td>297.5</td>\n",
       "      <td>42.93%</td>\n",
       "      <td>57.07%</td>\n",
       "      <td>180</td>\n",
       "      <td>6.0</td>\n",
       "      <td>1.0</td>\n",
       "    </tr>\n",
       "    <tr>\n",
       "      <th>9</th>\n",
       "      <td>2009</td>\n",
       "      <td>Up</td>\n",
       "      <td>96</td>\n",
       "      <td>98</td>\n",
       "      <td>8.3</td>\n",
       "      <td>88</td>\n",
       "      <td>68.11</td>\n",
       "      <td>731.3</td>\n",
       "      <td>293.0</td>\n",
       "      <td>318.90</td>\n",
       "      <td>438.3</td>\n",
       "      <td>40.07%</td>\n",
       "      <td>59.93%</td>\n",
       "      <td>175</td>\n",
       "      <td>5.0</td>\n",
       "      <td>2.0</td>\n",
       "    </tr>\n",
       "    <tr>\n",
       "      <th>10</th>\n",
       "      <td>2010</td>\n",
       "      <td>Toy Story 3</td>\n",
       "      <td>103</td>\n",
       "      <td>99</td>\n",
       "      <td>8.4</td>\n",
       "      <td>92</td>\n",
       "      <td>110.31</td>\n",
       "      <td>1063.2</td>\n",
       "      <td>415.0</td>\n",
       "      <td>423.88</td>\n",
       "      <td>648.2</td>\n",
       "      <td>39.03%</td>\n",
       "      <td>60.97%</td>\n",
       "      <td>200</td>\n",
       "      <td>5.0</td>\n",
       "      <td>2.0</td>\n",
       "    </tr>\n",
       "    <tr>\n",
       "      <th>11</th>\n",
       "      <td>2011</td>\n",
       "      <td>Cars 2</td>\n",
       "      <td>113</td>\n",
       "      <td>39</td>\n",
       "      <td>6.3</td>\n",
       "      <td>57</td>\n",
       "      <td>109.00</td>\n",
       "      <td>559.9</td>\n",
       "      <td>191.5</td>\n",
       "      <td>194.43</td>\n",
       "      <td>368.4</td>\n",
       "      <td>34.20%</td>\n",
       "      <td>65.80%</td>\n",
       "      <td>200</td>\n",
       "      <td>0.0</td>\n",
       "      <td>0.0</td>\n",
       "    </tr>\n",
       "    <tr>\n",
       "      <th>12</th>\n",
       "      <td>2012</td>\n",
       "      <td>Brave</td>\n",
       "      <td>100</td>\n",
       "      <td>78</td>\n",
       "      <td>7.2</td>\n",
       "      <td>69</td>\n",
       "      <td>66.30</td>\n",
       "      <td>539.0</td>\n",
       "      <td>237.3</td>\n",
       "      <td>243.39</td>\n",
       "      <td>301.7</td>\n",
       "      <td>44.03%</td>\n",
       "      <td>55.97%</td>\n",
       "      <td>185</td>\n",
       "      <td>1.0</td>\n",
       "      <td>1.0</td>\n",
       "    </tr>\n",
       "    <tr>\n",
       "      <th>13</th>\n",
       "      <td>2013</td>\n",
       "      <td>Monsters University</td>\n",
       "      <td>107</td>\n",
       "      <td>78</td>\n",
       "      <td>7.4</td>\n",
       "      <td>65</td>\n",
       "      <td>82.43</td>\n",
       "      <td>743.6</td>\n",
       "      <td>268.5</td>\n",
       "      <td>269.59</td>\n",
       "      <td>475.1</td>\n",
       "      <td>36.11%</td>\n",
       "      <td>63.89%</td>\n",
       "      <td>200</td>\n",
       "      <td>0.0</td>\n",
       "      <td>0.0</td>\n",
       "    </tr>\n",
       "    <tr>\n",
       "      <th>14</th>\n",
       "      <td>2015</td>\n",
       "      <td>Inside Out</td>\n",
       "      <td>102</td>\n",
       "      <td>98</td>\n",
       "      <td>8.8</td>\n",
       "      <td>93</td>\n",
       "      <td>90.40</td>\n",
       "      <td>677.1</td>\n",
       "      <td>340.5</td>\n",
       "      <td>340.50</td>\n",
       "      <td>336.6</td>\n",
       "      <td>50.29%</td>\n",
       "      <td>49.71%</td>\n",
       "      <td>175</td>\n",
       "      <td>NaN</td>\n",
       "      <td>NaN</td>\n",
       "    </tr>\n",
       "  </tbody>\n",
       "</table>\n",
       "</div>"
      ],
      "text/plain": [
       "    Year Released                Movie  Length  RT Score  IMDB Score  \\\n",
       "0            1995            Toy Story      81       100         8.3   \n",
       "1            1998         A Bug's Life      96        92         7.2   \n",
       "2            1999          Toy Story 2      92       100         7.9   \n",
       "3            2001       Monsters, Inc.      90        96         8.1   \n",
       "4            2003         Finding Nemo     104        99         8.2   \n",
       "5            2004      The Incredibles     115        97         8.0   \n",
       "6            2006                 Cars     116        74         7.2   \n",
       "7            2007          Ratatouille     111        96         8.0   \n",
       "8            2008               WALL-E      97        96         8.4   \n",
       "9            2009                   Up      96        98         8.3   \n",
       "10           2010          Toy Story 3     103        99         8.4   \n",
       "11           2011               Cars 2     113        39         6.3   \n",
       "12           2012                Brave     100        78         7.2   \n",
       "13           2013  Monsters University     107        78         7.4   \n",
       "14           2015           Inside Out     102        98         8.8   \n",
       "\n",
       "    Metacritic Score  Opening Weekend  Worldwide Gross  Domestic Gross  \\\n",
       "0                 92            29.14            362.0           191.8   \n",
       "1                 77            33.26            363.4           162.8   \n",
       "2                 88            57.39            485.0           245.9   \n",
       "3                 78            62.58            528.8           255.9   \n",
       "4                 90            70.25            895.6           339.7   \n",
       "5                 90            70.47            631.4           261.4   \n",
       "6                 73            60.12            462.0           244.1   \n",
       "7                 96            47.00            623.7           206.4   \n",
       "8                 94            63.10            521.3           223.8   \n",
       "9                 88            68.11            731.3           293.0   \n",
       "10                92           110.31           1063.2           415.0   \n",
       "11                57           109.00            559.9           191.5   \n",
       "12                69            66.30            539.0           237.3   \n",
       "13                65            82.43            743.6           268.5   \n",
       "14                93            90.40            677.1           340.5   \n",
       "\n",
       "    Adjusted Domestic Gross  International Gross Domestic % International %  \\\n",
       "0                    356.21                170.2     52.98%          47.02%   \n",
       "1                    277.18                200.6     44.80%          55.20%   \n",
       "2                    388.43                239.2     50.70%          49.32%   \n",
       "3                    366.12                272.9     48.39%          51.61%   \n",
       "4                    457.46                555.9     37.93%          62.07%   \n",
       "5                    341.28                370.0     41.40%          58.60%   \n",
       "6                    302.59                217.9     52.84%          47.16%   \n",
       "7                    243.65                417.3     33.09%          66.91%   \n",
       "8                    253.11                297.5     42.93%          57.07%   \n",
       "9                    318.90                438.3     40.07%          59.93%   \n",
       "10                   423.88                648.2     39.03%          60.97%   \n",
       "11                   194.43                368.4     34.20%          65.80%   \n",
       "12                   243.39                301.7     44.03%          55.97%   \n",
       "13                   269.59                475.1     36.11%          63.89%   \n",
       "14                   340.50                336.6     50.29%          49.71%   \n",
       "\n",
       "    Production Budget  Oscars Nominated  Oscars Won  \n",
       "0                  30               3.0         0.0  \n",
       "1                  45               1.0         0.0  \n",
       "2                  90               1.0         0.0  \n",
       "3                 115               3.0         1.0  \n",
       "4                  94               4.0         1.0  \n",
       "5                  92               4.0         2.0  \n",
       "6                  70               2.0         0.0  \n",
       "7                 150               5.0         1.0  \n",
       "8                 180               6.0         1.0  \n",
       "9                 175               5.0         2.0  \n",
       "10                200               5.0         2.0  \n",
       "11                200               0.0         0.0  \n",
       "12                185               1.0         1.0  \n",
       "13                200               0.0         0.0  \n",
       "14                175               NaN         NaN  "
      ]
     },
     "execution_count": 7,
     "metadata": {},
     "output_type": "execute_result"
    }
   ],
   "source": [
    "pixar_movies"
   ]
  },
  {
   "cell_type": "code",
   "execution_count": 8,
   "metadata": {
    "collapsed": false
   },
   "outputs": [
    {
     "data": {
      "text/plain": [
       "Year Released                int64\n",
       "Movie                       object\n",
       "Length                       int64\n",
       "RT Score                     int64\n",
       "IMDB Score                 float64\n",
       "Metacritic Score             int64\n",
       "Opening Weekend            float64\n",
       "Worldwide Gross            float64\n",
       "Domestic Gross             float64\n",
       "Adjusted Domestic Gross    float64\n",
       "International Gross        float64\n",
       "Domestic %                  object\n",
       "International %             object\n",
       "Production Budget            int64\n",
       "Oscars Nominated           float64\n",
       "Oscars Won                 float64\n",
       "dtype: object"
      ]
     },
     "execution_count": 8,
     "metadata": {},
     "output_type": "execute_result"
    }
   ],
   "source": [
    "pixar_movies.dtypes"
   ]
  },
  {
   "cell_type": "code",
   "execution_count": 9,
   "metadata": {
    "collapsed": false
   },
   "outputs": [
    {
     "name": "stderr",
     "output_type": "stream",
     "text": [
      "C:\\Users\\Gerrit\\Desktop\\Anaconda\\envs\\py35\\lib\\site-packages\\numpy\\lib\\function_base.py:3823: RuntimeWarning: Invalid value encountered in percentile\n",
      "  RuntimeWarning)\n"
     ]
    },
    {
     "data": {
      "text/html": [
       "<div>\n",
       "<table border=\"1\" class=\"dataframe\">\n",
       "  <thead>\n",
       "    <tr style=\"text-align: right;\">\n",
       "      <th></th>\n",
       "      <th>Year Released</th>\n",
       "      <th>Length</th>\n",
       "      <th>RT Score</th>\n",
       "      <th>IMDB Score</th>\n",
       "      <th>Metacritic Score</th>\n",
       "      <th>Opening Weekend</th>\n",
       "      <th>Worldwide Gross</th>\n",
       "      <th>Domestic Gross</th>\n",
       "      <th>Adjusted Domestic Gross</th>\n",
       "      <th>International Gross</th>\n",
       "      <th>Production Budget</th>\n",
       "      <th>Oscars Nominated</th>\n",
       "      <th>Oscars Won</th>\n",
       "    </tr>\n",
       "  </thead>\n",
       "  <tbody>\n",
       "    <tr>\n",
       "      <th>count</th>\n",
       "      <td>15.000000</td>\n",
       "      <td>15.000000</td>\n",
       "      <td>15.000000</td>\n",
       "      <td>15.000000</td>\n",
       "      <td>15.000000</td>\n",
       "      <td>15.000000</td>\n",
       "      <td>15.000000</td>\n",
       "      <td>15.000000</td>\n",
       "      <td>15.000000</td>\n",
       "      <td>15.000000</td>\n",
       "      <td>15.000000</td>\n",
       "      <td>14.000000</td>\n",
       "      <td>14.000000</td>\n",
       "    </tr>\n",
       "    <tr>\n",
       "      <th>mean</th>\n",
       "      <td>2006.066667</td>\n",
       "      <td>101.533333</td>\n",
       "      <td>89.333333</td>\n",
       "      <td>7.846667</td>\n",
       "      <td>82.800000</td>\n",
       "      <td>67.990667</td>\n",
       "      <td>612.486667</td>\n",
       "      <td>258.506667</td>\n",
       "      <td>318.448000</td>\n",
       "      <td>353.986667</td>\n",
       "      <td>133.400000</td>\n",
       "      <td>2.857143</td>\n",
       "      <td>0.785714</td>\n",
       "    </tr>\n",
       "    <tr>\n",
       "      <th>std</th>\n",
       "      <td>5.933761</td>\n",
       "      <td>9.927355</td>\n",
       "      <td>16.451950</td>\n",
       "      <td>0.655599</td>\n",
       "      <td>12.119642</td>\n",
       "      <td>23.270468</td>\n",
       "      <td>190.193934</td>\n",
       "      <td>66.518284</td>\n",
       "      <td>73.321064</td>\n",
       "      <td>135.061615</td>\n",
       "      <td>59.696614</td>\n",
       "      <td>2.032700</td>\n",
       "      <td>0.801784</td>\n",
       "    </tr>\n",
       "    <tr>\n",
       "      <th>min</th>\n",
       "      <td>1995.000000</td>\n",
       "      <td>81.000000</td>\n",
       "      <td>39.000000</td>\n",
       "      <td>6.300000</td>\n",
       "      <td>57.000000</td>\n",
       "      <td>29.140000</td>\n",
       "      <td>362.000000</td>\n",
       "      <td>162.800000</td>\n",
       "      <td>194.430000</td>\n",
       "      <td>170.200000</td>\n",
       "      <td>30.000000</td>\n",
       "      <td>0.000000</td>\n",
       "      <td>0.000000</td>\n",
       "    </tr>\n",
       "    <tr>\n",
       "      <th>25%</th>\n",
       "      <td>2002.000000</td>\n",
       "      <td>96.000000</td>\n",
       "      <td>85.000000</td>\n",
       "      <td>7.300000</td>\n",
       "      <td>75.000000</td>\n",
       "      <td>58.755000</td>\n",
       "      <td>503.150000</td>\n",
       "      <td>215.100000</td>\n",
       "      <td>261.350000</td>\n",
       "      <td>256.050000</td>\n",
       "      <td>91.000000</td>\n",
       "      <td>NaN</td>\n",
       "      <td>NaN</td>\n",
       "    </tr>\n",
       "    <tr>\n",
       "      <th>50%</th>\n",
       "      <td>2007.000000</td>\n",
       "      <td>102.000000</td>\n",
       "      <td>96.000000</td>\n",
       "      <td>8.000000</td>\n",
       "      <td>88.000000</td>\n",
       "      <td>66.300000</td>\n",
       "      <td>559.900000</td>\n",
       "      <td>245.900000</td>\n",
       "      <td>318.900000</td>\n",
       "      <td>336.600000</td>\n",
       "      <td>150.000000</td>\n",
       "      <td>NaN</td>\n",
       "      <td>NaN</td>\n",
       "    </tr>\n",
       "    <tr>\n",
       "      <th>75%</th>\n",
       "      <td>2010.500000</td>\n",
       "      <td>109.000000</td>\n",
       "      <td>98.500000</td>\n",
       "      <td>8.300000</td>\n",
       "      <td>92.000000</td>\n",
       "      <td>76.450000</td>\n",
       "      <td>704.200000</td>\n",
       "      <td>280.750000</td>\n",
       "      <td>361.165000</td>\n",
       "      <td>427.800000</td>\n",
       "      <td>182.500000</td>\n",
       "      <td>NaN</td>\n",
       "      <td>NaN</td>\n",
       "    </tr>\n",
       "    <tr>\n",
       "      <th>max</th>\n",
       "      <td>2015.000000</td>\n",
       "      <td>116.000000</td>\n",
       "      <td>100.000000</td>\n",
       "      <td>8.800000</td>\n",
       "      <td>96.000000</td>\n",
       "      <td>110.310000</td>\n",
       "      <td>1063.200000</td>\n",
       "      <td>415.000000</td>\n",
       "      <td>457.460000</td>\n",
       "      <td>648.200000</td>\n",
       "      <td>200.000000</td>\n",
       "      <td>6.000000</td>\n",
       "      <td>2.000000</td>\n",
       "    </tr>\n",
       "  </tbody>\n",
       "</table>\n",
       "</div>"
      ],
      "text/plain": [
       "       Year Released      Length    RT Score  IMDB Score  Metacritic Score  \\\n",
       "count      15.000000   15.000000   15.000000   15.000000         15.000000   \n",
       "mean     2006.066667  101.533333   89.333333    7.846667         82.800000   \n",
       "std         5.933761    9.927355   16.451950    0.655599         12.119642   \n",
       "min      1995.000000   81.000000   39.000000    6.300000         57.000000   \n",
       "25%      2002.000000   96.000000   85.000000    7.300000         75.000000   \n",
       "50%      2007.000000  102.000000   96.000000    8.000000         88.000000   \n",
       "75%      2010.500000  109.000000   98.500000    8.300000         92.000000   \n",
       "max      2015.000000  116.000000  100.000000    8.800000         96.000000   \n",
       "\n",
       "       Opening Weekend  Worldwide Gross  Domestic Gross  \\\n",
       "count        15.000000        15.000000       15.000000   \n",
       "mean         67.990667       612.486667      258.506667   \n",
       "std          23.270468       190.193934       66.518284   \n",
       "min          29.140000       362.000000      162.800000   \n",
       "25%          58.755000       503.150000      215.100000   \n",
       "50%          66.300000       559.900000      245.900000   \n",
       "75%          76.450000       704.200000      280.750000   \n",
       "max         110.310000      1063.200000      415.000000   \n",
       "\n",
       "       Adjusted Domestic Gross  International Gross  Production Budget  \\\n",
       "count                15.000000            15.000000          15.000000   \n",
       "mean                318.448000           353.986667         133.400000   \n",
       "std                  73.321064           135.061615          59.696614   \n",
       "min                 194.430000           170.200000          30.000000   \n",
       "25%                 261.350000           256.050000          91.000000   \n",
       "50%                 318.900000           336.600000         150.000000   \n",
       "75%                 361.165000           427.800000         182.500000   \n",
       "max                 457.460000           648.200000         200.000000   \n",
       "\n",
       "       Oscars Nominated  Oscars Won  \n",
       "count         14.000000   14.000000  \n",
       "mean           2.857143    0.785714  \n",
       "std            2.032700    0.801784  \n",
       "min            0.000000    0.000000  \n",
       "25%                 NaN         NaN  \n",
       "50%                 NaN         NaN  \n",
       "75%                 NaN         NaN  \n",
       "max            6.000000    2.000000  "
      ]
     },
     "execution_count": 9,
     "metadata": {},
     "output_type": "execute_result"
    }
   ],
   "source": [
    "pixar_movies.describe()"
   ]
  },
  {
   "cell_type": "code",
   "execution_count": 10,
   "metadata": {
    "collapsed": false
   },
   "outputs": [
    {
     "data": {
      "text/plain": [
       "Index(['Year Released', 'Movie', 'Length', 'RT Score', 'IMDB Score',\n",
       "       'Metacritic Score', 'Opening Weekend', 'Worldwide Gross',\n",
       "       'Domestic Gross', 'Adjusted Domestic Gross', 'International Gross',\n",
       "       'Domestic %', 'International %', 'Production Budget',\n",
       "       'Oscars Nominated', 'Oscars Won'],\n",
       "      dtype='object')"
      ]
     },
     "execution_count": 10,
     "metadata": {},
     "output_type": "execute_result"
    }
   ],
   "source": [
    "pixar_movies.columns"
   ]
  },
  {
   "cell_type": "markdown",
   "metadata": {},
   "source": [
    "# Data Cleaning"
   ]
  },
  {
   "cell_type": "code",
   "execution_count": 11,
   "metadata": {
    "collapsed": false
   },
   "outputs": [],
   "source": [
    "#Since they are objects, we are converting the Domestic % and International % \n",
    "#into floats by first stripping the '%' signs and converting to float\n",
    "\n",
    "pixar_movies['Domestic %'] = pixar_movies['Domestic %'].str.rstrip('%')\n",
    "pixar_movies['Domestic %'] =pixar_movies['Domestic %'].astype(\"float\")\n",
    "\n",
    "pixar_movies['International %'] = pixar_movies['International %'].str.rstrip('%')\n",
    "pixar_movies['International %'] = pixar_movies['International %'].astype(\"float\")\n"
   ]
  },
  {
   "cell_type": "code",
   "execution_count": 12,
   "metadata": {
    "collapsed": false
   },
   "outputs": [
    {
     "name": "stdout",
     "output_type": "stream",
     "text": [
      "0     83.0\n",
      "1     72.0\n",
      "2     79.0\n",
      "3     81.0\n",
      "4     82.0\n",
      "5     80.0\n",
      "6     72.0\n",
      "7     80.0\n",
      "8     84.0\n",
      "9     83.0\n",
      "10    84.0\n",
      "11    63.0\n",
      "12    72.0\n",
      "13    74.0\n",
      "14    88.0\n",
      "Name: IMDB Score, dtype: float64\n"
     ]
    }
   ],
   "source": [
    "#Converting the IMDB score column to a 100 point scale so it will be easier to work with\n",
    "pixar_movies['IMDB Score'] = pixar_movies['IMDB Score']*10\n",
    "print(pixar_movies['IMDB Score'])"
   ]
  },
  {
   "cell_type": "code",
   "execution_count": 13,
   "metadata": {
    "collapsed": true
   },
   "outputs": [],
   "source": [
    "#Create a column that averages all scores RottenTomatoes, MetaCritic, etc."
   ]
  },
  {
   "cell_type": "code",
   "execution_count": 14,
   "metadata": {
    "collapsed": false
   },
   "outputs": [
    {
     "name": "stdout",
     "output_type": "stream",
     "text": [
      "   Year Released           Movie  Length  RT Score  IMDB Score  \\\n",
      "0           1995       Toy Story      81       100        83.0   \n",
      "1           1998    A Bug's Life      96        92        72.0   \n",
      "2           1999     Toy Story 2      92       100        79.0   \n",
      "3           2001  Monsters, Inc.      90        96        81.0   \n",
      "4           2003    Finding Nemo     104        99        82.0   \n",
      "\n",
      "   Metacritic Score  Opening Weekend  Worldwide Gross  Domestic Gross  \\\n",
      "0                92            29.14            362.0           191.8   \n",
      "1                77            33.26            363.4           162.8   \n",
      "2                88            57.39            485.0           245.9   \n",
      "3                78            62.58            528.8           255.9   \n",
      "4                90            70.25            895.6           339.7   \n",
      "\n",
      "   Adjusted Domestic Gross  International Gross  Domestic %  International %  \\\n",
      "0                   356.21                170.2       52.98            47.02   \n",
      "1                   277.18                200.6       44.80            55.20   \n",
      "2                   388.43                239.2       50.70            49.32   \n",
      "3                   366.12                272.9       48.39            51.61   \n",
      "4                   457.46                555.9       37.93            62.07   \n",
      "\n",
      "   Production Budget  Oscars Nominated  Oscars Won  \n",
      "0                 30               3.0         0.0  \n",
      "1                 45               1.0         0.0  \n",
      "2                 90               1.0         0.0  \n",
      "3                115               3.0         1.0  \n",
      "4                 94               4.0         1.0  \n"
     ]
    }
   ],
   "source": [
    "#Filtering out the movies Inside Out since it has no Oscar Data\n",
    "filtered_pixar = pixar_movies.loc[:13]\n",
    "print(filtered_pixar.head())"
   ]
  },
  {
   "cell_type": "code",
   "execution_count": 15,
   "metadata": {
    "collapsed": true
   },
   "outputs": [],
   "source": [
    "#We are now indexing both the filtered and original data sets by movies that way we can look up data by movie\n",
    "#In case I need to reset the indices pixar_movies.reset_index(inplace=True)\n",
    "pixar_movies.set_index(\"Movie\", inplace=True)"
   ]
  },
  {
   "cell_type": "code",
   "execution_count": 16,
   "metadata": {
    "collapsed": false
   },
   "outputs": [
    {
     "name": "stdout",
     "output_type": "stream",
     "text": [
      "                Year Released  Length  RT Score  IMDB Score  Metacritic Score  \\\n",
      "Movie                                                                           \n",
      "Toy Story                1995      81       100        83.0                92   \n",
      "A Bug's Life             1998      96        92        72.0                77   \n",
      "Toy Story 2              1999      92       100        79.0                88   \n",
      "Monsters, Inc.           2001      90        96        81.0                78   \n",
      "Finding Nemo             2003     104        99        82.0                90   \n",
      "\n",
      "                Opening Weekend  Worldwide Gross  Domestic Gross  \\\n",
      "Movie                                                              \n",
      "Toy Story                 29.14            362.0           191.8   \n",
      "A Bug's Life              33.26            363.4           162.8   \n",
      "Toy Story 2               57.39            485.0           245.9   \n",
      "Monsters, Inc.            62.58            528.8           255.9   \n",
      "Finding Nemo              70.25            895.6           339.7   \n",
      "\n",
      "                Adjusted Domestic Gross  International Gross  Domestic %  \\\n",
      "Movie                                                                      \n",
      "Toy Story                        356.21                170.2       52.98   \n",
      "A Bug's Life                     277.18                200.6       44.80   \n",
      "Toy Story 2                      388.43                239.2       50.70   \n",
      "Monsters, Inc.                   366.12                272.9       48.39   \n",
      "Finding Nemo                     457.46                555.9       37.93   \n",
      "\n",
      "                International %  Production Budget  Oscars Nominated  \\\n",
      "Movie                                                                  \n",
      "Toy Story                 47.02                 30               3.0   \n",
      "A Bug's Life              55.20                 45               1.0   \n",
      "Toy Story 2               49.32                 90               1.0   \n",
      "Monsters, Inc.            51.61                115               3.0   \n",
      "Finding Nemo              62.07                 94               4.0   \n",
      "\n",
      "                Oscars Won  \n",
      "Movie                       \n",
      "Toy Story              0.0  \n",
      "A Bug's Life           0.0  \n",
      "Toy Story 2            0.0  \n",
      "Monsters, Inc.         1.0  \n",
      "Finding Nemo           1.0  \n"
     ]
    }
   ],
   "source": [
    "# filtered_pixar.reset_index(inplace=True)\n",
    "filtered_pixar.set_index(\"Movie\", inplace=True)\n",
    "print(filtered_pixar.head())"
   ]
  },
  {
   "cell_type": "markdown",
   "metadata": {},
   "source": [
    "# Data Visualizations"
   ]
  },
  {
   "cell_type": "markdown",
   "metadata": {},
   "source": [
    "How do the Pixar films fare across each of the major review sites?\n",
    "We can explore this using a line plot now that we have standardized all \n",
    "critics reviews"
   ]
  },
  {
   "cell_type": "code",
   "execution_count": 18,
   "metadata": {
    "collapsed": false
   },
   "outputs": [
    {
     "data": {
      "text/plain": [
       "<matplotlib.axes._subplots.AxesSubplot at 0x25b69d2c7f0>"
      ]
     },
     "execution_count": 18,
     "metadata": {},
     "output_type": "execute_result"
    },
    {
     "data": {
      "image/png": "[encoded data removed]",
      "text/plain": [
       "<matplotlib.figure.Figure at 0x25b68a69a20>"
      ]
     },
     "metadata": {},
     "output_type": "display_data"
    }
   ],
   "source": [
    "#Creating a new df that just contains critics reviews and plotting by movie\n",
    "critics_reviews = pixar_movies[['RT Score','IMDB Score','Metacritic Score']]\n",
    "\n",
    "#Now plotting\n",
    "critics_reviews.plot(figsize=(10,6))"
   ]
  },
  {
   "cell_type": "markdown",
   "metadata": {},
   "source": [
    "We see from the line graph that average ratings from each review site are pretty similarly distributed."
   ]
  },
  {
   "cell_type": "code",
   "execution_count": 19,
   "metadata": {
    "collapsed": false
   },
   "outputs": [
    {
     "data": {
      "text/plain": [
       "<matplotlib.axes._subplots.AxesSubplot at 0x25b69f9b5f8>"
      ]
     },
     "execution_count": 19,
     "metadata": {},
     "output_type": "execute_result"
    },
    {
     "data": {
      "image/png": "[encoded data removed]",
      "text/plain": [
       "<matplotlib.figure.Figure at 0x25b68a69550>"
      ]
     },
     "metadata": {},
     "output_type": "display_data"
    }
   ],
   "source": [
    "critics_reviews.plot(kind='box', figsize=(10,6))"
   ]
  },
  {
   "cell_type": "markdown",
   "metadata": {},
   "source": [
    "We see from the boxplot above that RottenTomatoes gives better scores to movies than the other two movie critic sites"
   ]
  },
  {
   "cell_type": "markdown",
   "metadata": {},
   "source": [
    "How has the ratio of where the revenue comes from changed since the first movie? Now that Pixar is more well known internationally, is more revenue being made internationally for newer movies?"
   ]
  },
  {
   "cell_type": "code",
   "execution_count": 20,
   "metadata": {
    "collapsed": false
   },
   "outputs": [
    {
     "data": {
      "text/plain": [
       "<matplotlib.axes._subplots.AxesSubplot at 0x25b69e8bba8>"
      ]
     },
     "execution_count": 20,
     "metadata": {},
     "output_type": "execute_result"
    },
    {
     "data": {
      "image/png": "[encoded data removed]",
      "text/plain": [
       "<matplotlib.figure.Figure at 0x25b69e91630>"
      ]
     },
     "metadata": {},
     "output_type": "display_data"
    }
   ],
   "source": [
    "#Now creating a stacked bar graph to see the distribution of gross income by\n",
    "#internation and domestic\n",
    "\n",
    "revenue_proportions = filtered_pixar[['Domestic %','International %']]\n",
    "revenue_proportions.plot(kind='bar',stacked=True)"
   ]
  },
  {
   "cell_type": "markdown",
   "metadata": {},
   "source": [
    "Whereas the first couple of movies have a domestic gross hovering around 50%, we see a small descrease in the porportion of domestic gross. In the movies on the right, we see it hovering around 40%."
   ]
  },
  {
   "cell_type": "markdown",
   "metadata": {},
   "source": [
    "# Further analysis"
   ]
  },
  {
   "cell_type": "markdown",
   "metadata": {},
   "source": [
    "Create a grouped bar plot to explore if there's any correlation between the number of Oscars a movie was nominated for and the number it actually won.\n",
    "What plots can you generate to better understand which columns correlate with the Adjusted Domestic Gross revenue column?"
   ]
  }
 ],
 "metadata": {
  "kernelspec": {
   "display_name": "Python 3",
   "language": "python",
   "name": "python3"
  },
  "language_info": {
   "codemirror_mode": {
    "name": "ipython",
    "version": 3
   },
   "file_extension": ".py",
   "mimetype": "text/x-python",
   "name": "python",
   "nbconvert_exporter": "python",
   "pygments_lexer": "ipython3",
   "version": "3.5.1"
  }
 },
 "nbformat": 4,
 "nbformat_minor": 0
}
