{
 "cells": [
  {
   "cell_type": "code",
   "execution_count": null,
   "metadata": {
    "collapsed": true
   },
   "outputs": [],
   "source": [
    "import pandas as pd\n",
    "import matplotlib.pyplot as plt\n",
    "import seaborn as sns\n",
    "%matplotlib inline\n",
    "\n",
    "#Download the pixar movie data\n",
    "#It is located on this lady's GitHub repo: https://github.com/apalbright/Pixar/blob/master/Pixar.csv\n",
    "pixar_movies = pd.read_csv(\"PixarMovies.csv\")\n",
    "\n",
    "print(pixar_movies.shape[0])\n",
    "print(pixar_movies.shape[1])"
   ]
  },
  {
   "cell_type": "code",
   "execution_count": null,
   "metadata": {
    "collapsed": true
   },
   "outputs": [],
   "source": [
    "pixar_movies"
   ]
  },
  {
   "cell_type": "code",
   "execution_count": null,
   "metadata": {
    "collapsed": true
   },
   "outputs": [],
   "source": [
    "pixar_movies.dtypes"
   ]
  },
  {
   "cell_type": "code",
   "execution_count": null,
   "metadata": {
    "collapsed": true
   },
   "outputs": [],
   "source": [
    "pixar_movies.describe()"
   ]
  },
  {
   "cell_type": "markdown",
   "metadata": {},
   "source": [
    "# Data Cleaning"
   ]
  },
  {
   "cell_type": "code",
   "execution_count": null,
   "metadata": {
    "collapsed": true
   },
   "outputs": [],
   "source": [
    "#Since they are objects, we are converting the Domestic % and International % \n",
    "#into floats by first stripping the '%' signs and converting to float\n",
    "\n",
    "pixar_movies['Domestic %'] = pixar_movies['Domestic %'].str.rstrip('%')\n",
    "pixar_movies['Domestic %'] =pixar_movies['Domestic %'].astype(\"float\")\n",
    "\n",
    "pixar_movies['International %'] = pixar_movies['International %'].str.rstrip('%')\n",
    "pixar_movies['International %'] = pixar_movies['International %'].astype(\"float\")\n"
   ]
  },
  {
   "cell_type": "code",
   "execution_count": null,
   "metadata": {
    "collapsed": true
   },
   "outputs": [],
   "source": [
    "#Converting the IMDB score column to a 100 point scale so it will be easier to work with\n",
    "pixar_movies['IMDB Score'] = pixar_movies['IMDB Score']*10\n",
    "print(pixar_movies['IMDB Score'])"
   ]
  },
  {
   "cell_type": "code",
   "execution_count": null,
   "metadata": {
    "collapsed": true
   },
   "outputs": [],
   "source": [
    "#Create a column that averages all scores RottenTomatoes, MetaCritic, etc."
   ]
  },
  {
   "cell_type": "code",
   "execution_count": null,
   "metadata": {
    "collapsed": true
   },
   "outputs": [],
   "source": [
    "#Filtering out the movies Inside Out since it has no Oscar Data\n",
    "filtered_pixar = pixar_movies.loc[:13]\n",
    "print(filtered_pixar.head())"
   ]
  },
  {
   "cell_type": "code",
   "execution_count": null,
   "metadata": {
    "collapsed": true
   },
   "outputs": [],
   "source": [
    "#We are now indexing both the filtered and original data sets by movies\n",
    "#that way we can look up data by movie\n",
    "#In case I need to reset the indices\n",
    "#pixar_movies.reset_index(inplace=True)\n",
    "pixar_movies.set_index(\"Movie\", inplace=True)"
   ]
  },
  {
   "cell_type": "code",
   "execution_count": null,
   "metadata": {
    "collapsed": true
   },
   "outputs": [],
   "source": [
    "# filtered_pixar.reset_index(inplace=True)\n",
    "filtered_pixar.set_index(\"Movie\", inplace=True)\n",
    "print(filtered_pixar.head())"
   ]
  },
  {
   "cell_type": "code",
   "execution_count": null,
   "metadata": {
    "collapsed": true
   },
   "outputs": [],
   "source": [
    "pixar_movies.drop('level_0',1)"
   ]
  },
  {
   "cell_type": "markdown",
   "metadata": {},
   "source": [
    "How do the Pixar films fare across each of the major review sites?\n",
    "We can explore this using a line plot now that we have standardized all \n",
    "critics reviews"
   ]
  },
  {
   "cell_type": "code",
   "execution_count": null,
   "metadata": {
    "collapsed": true
   },
   "outputs": [],
   "source": [
    "#Creating a new df that just contains critics reviews and plotting by movie\n",
    "critics_reviews = pixar_movies[['RT Score','IMDB Score','Metacritic Score']]\n",
    "\n",
    "#Now plotting\n",
    "critics_reviews.plot(figsize=(10,6))"
   ]
  },
  {
   "cell_type": "markdown",
   "metadata": {},
   "source": [
    "How are the average ratings from each review site across all the movies distributed?"
   ]
  },
  {
   "cell_type": "code",
   "execution_count": null,
   "metadata": {
    "collapsed": true
   },
   "outputs": [],
   "source": [
    "critics_reviews.plot(kind='box', figsize=(10,6))"
   ]
  },
  {
   "cell_type": "markdown",
   "metadata": {},
   "source": [
    "We see from the boxplot above that RottenTomatoes gives better scores to movies than the other two movie critic sites"
   ]
  },
  {
   "cell_type": "markdown",
   "metadata": {},
   "source": [
    "How has the ratio of where the revenue comes from changed since the first movie? Now that Pixar is more well known internationally, is more revenue being made internationally for newer movies?"
   ]
  },
  {
   "cell_type": "code",
   "execution_count": null,
   "metadata": {
    "collapsed": true
   },
   "outputs": [],
   "source": [
    "#Now creating a stacked bar graph to see the distribution of gross income by\n",
    "#internation and domestic\n",
    "\n",
    "revenue_proportions = filtered_pixar[['Domestic %','International %']]\n",
    "revenue_proportions.plot(kind='bar',stacked=True)"
   ]
  },
  {
   "cell_type": "markdown",
   "metadata": {},
   "source": [
    "Whereas the first couple of movies have a domestic gross hovering around 50%, we see a small descrease in the porportion of domestic gross. In the movies on the right, we see it hovering around 40%."
   ]
  },
  {
   "cell_type": "markdown",
   "metadata": {},
   "source": [
    "Create a grouped bar plot to explore if there's any correlation between the number of Oscars a movie was nominated for and the number it actually won.\n",
    "What plots can you generate to better understand which columns correlate with the Adjusted Domestic Gross revenue column?"
   ]
  }
 ],
 "metadata": {
  "kernelspec": {
   "display_name": "Python 3",
   "language": "python",
   "name": "python3"
  },
  "language_info": {
   "codemirror_mode": {
    "name": "ipython",
    "version": 3
   },
   "file_extension": ".py",
   "mimetype": "text/x-python",
   "name": "python",
   "nbconvert_exporter": "python",
   "pygments_lexer": "ipython3",
   "version": "3.5.1"
  }
 },
 "nbformat": 4,
 "nbformat_minor": 0
}
